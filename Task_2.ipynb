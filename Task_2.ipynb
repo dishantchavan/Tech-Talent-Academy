{
 "cells": [
  {
   "cell_type": "code",
   "execution_count": null,
   "source": [
    "print('Hello, How are you doing')\r\n",
    "print('Can you please think of a favourite number between 1 and 100')\r\n"
   ],
   "outputs": [],
   "metadata": {}
  },
  {
   "cell_type": "code",
   "execution_count": null,
   "source": [
    "gf = int(input('Please enter a number between 1 and 100 and I will tell you a  funny joke'))\r\n",
    "if gf >=1 and gf < 35:\r\n",
    "    print('Q: What’s the difference between England and a tea bag?\\n A: The tea bag stays in the cup longer.')\r\n",
    "elif gf>= 35 and gf <75:\r\n",
    "    print('I went to the doctor the other day and said: “Have you got anything for wind?” So he gave me a kite.')\r\n",
    "elif gf>= 75 and gf <= 100:\r\n",
    "    print('I said to the Gym instructor “Can you teach me to do the splits?” He said, ”How flexible are you?” I said, ”I can’t make Tuesdays')\r\n",
    "else:\r\n",
    "        print('Please enter a  number between 1 and 100')\r\n"
   ],
   "outputs": [],
   "metadata": {}
  }
 ],
 "metadata": {
  "orig_nbformat": 4,
  "language_info": {
   "name": "python",
   "version": "3.9.7",
   "mimetype": "text/x-python",
   "codemirror_mode": {
    "name": "ipython",
    "version": 3
   },
   "pygments_lexer": "ipython3",
   "nbconvert_exporter": "python",
   "file_extension": ".py"
  },
  "kernelspec": {
   "name": "python3",
   "display_name": "Python 3.9.7 64-bit (windows store)"
  },
  "interpreter": {
   "hash": "f154b1abc693616b650422d55153a3a7d229343d432c3e5b609a51a9cadf4946"
  }
 },
 "nbformat": 4,
 "nbformat_minor": 2
}