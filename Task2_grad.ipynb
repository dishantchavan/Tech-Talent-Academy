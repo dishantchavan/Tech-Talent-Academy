{
 "cells": [
  {
   "cell_type": "code",
   "execution_count": null,
   "metadata": {},
   "outputs": [],
   "source": [
    "print('Hello, How are you doing')\n"
   ]
  },
  {
   "cell_type": "code",
   "execution_count": null,
   "metadata": {},
   "outputs": [],
   "source": [
    "\n",
    "a = int(input('Can you enter your percentage marks'))\n",
    "def mark_grade():\n",
    "    if a >= 80:\n",
    "        print('Hello, you have received A grade')\n",
    "    elif a < 80 and a >=60:\n",
    "        print('Hello, you have received B grade')\n",
    "    elif a < 60 and a >= 45:\n",
    "        print('Hello, you have received C grade')\n",
    "    elif a < 45 and a >= 30:\n",
    "        print('Hello, you have received D grade')\n",
    "    else:\n",
    "        print('Hello, you have received F grade')\n",
    "\n",
    "    \n",
    "\n",
    "\n",
    "\n"
   ]
  },
  {
   "cell_type": "code",
   "execution_count": null,
   "metadata": {},
   "outputs": [],
   "source": [
    "mark_grade()\n"
   ]
  },
  {
   "cell_type": "code",
   "execution_count": null,
   "metadata": {},
   "outputs": [],
   "source": []
  }
 ],
 "metadata": {
  "interpreter": {
   "hash": "f154b1abc693616b650422d55153a3a7d229343d432c3e5b609a51a9cadf4946"
  },
  "kernelspec": {
   "display_name": "Python 3.9.7 64-bit (windows store)",
   "name": "python3"
  },
  "language_info": {
   "codemirror_mode": {
    "name": "ipython",
    "version": 3
   },
   "file_extension": ".py",
   "mimetype": "text/x-python",
   "name": "python",
   "nbconvert_exporter": "python",
   "pygments_lexer": "ipython3",
   "version": "3.9.7"
  },
  "orig_nbformat": 4
 },
 "nbformat": 4,
 "nbformat_minor": 2
}
