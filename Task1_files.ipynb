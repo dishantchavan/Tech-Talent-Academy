{
 "cells": [
  {
   "cell_type": "code",
   "execution_count": null,
   "metadata": {},
   "outputs": [],
   "source": [
    "my_file = open(\"Numbers.txt\", \"w\")"
   ]
  },
  {
   "cell_type": "code",
   "execution_count": null,
   "metadata": {},
   "outputs": [],
   "source": [
    "my_file = open(\"Numbers.txt\", \"w\")\n",
    "a = input('Enter number')\n",
    "b = input('Enter number')\n",
    "c = input('Enter number')\n",
    "my_file.write(str(a))\n",
    "my_file.write(\"\\n\")\n",
    "my_file.write(str(b))\n",
    "my_file.write(\"\\n\")\n",
    "my_file.write(str(c))\n",
    "\n",
    "my_file.close()\n"
   ]
  },
  {
   "cell_type": "code",
   "execution_count": null,
   "metadata": {},
   "outputs": [],
   "source": [
    "with open(\"Numbers.txt\", \"r\") as my_file:\n",
    "    data = my_file.read()\n",
    "my_file.close()\n",
    "print(data)\n",
    "\n"
   ]
  },
  {
   "cell_type": "code",
   "execution_count": null,
   "metadata": {},
   "outputs": [],
   "source": [
    "my_file = open(\"Numbers.txt\", \"a\")\n",
    "d = input('Enter number')\n",
    "my_file.write(str(d))\n",
    "my_file.close()"
   ]
  }
 ],
 "metadata": {
  "interpreter": {
   "hash": "f154b1abc693616b650422d55153a3a7d229343d432c3e5b609a51a9cadf4946"
  },
  "kernelspec": {
   "display_name": "Python 3.9.7 64-bit (windows store)",
   "name": "python3"
  },
  "language_info": {
   "codemirror_mode": {
    "name": "ipython",
    "version": 3
   },
   "file_extension": ".py",
   "mimetype": "text/x-python",
   "name": "python",
   "nbconvert_exporter": "python",
   "pygments_lexer": "ipython3",
   "version": "3.9.7"
  },
  "orig_nbformat": 4
 },
 "nbformat": 4,
 "nbformat_minor": 2
}
