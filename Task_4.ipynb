{
 "cells": [
  {
   "cell_type": "code",
   "execution_count": null,
   "source": [
    "n = 2000\r\n",
    "while n > 1000:\r\n",
    "    print(n)\r\n",
    "    n = int(n - n*0.1)\r\n",
    "    \r\n",
    "print('Value of bike is below £1000')"
   ],
   "outputs": [],
   "metadata": {}
  }
 ],
 "metadata": {
  "orig_nbformat": 4,
  "language_info": {
   "name": "python",
   "version": "3.9.7",
   "mimetype": "text/x-python",
   "codemirror_mode": {
    "name": "ipython",
    "version": 3
   },
   "pygments_lexer": "ipython3",
   "nbconvert_exporter": "python",
   "file_extension": ".py"
  },
  "kernelspec": {
   "name": "python3",
   "display_name": "Python 3.9.7 64-bit (windows store)"
  },
  "interpreter": {
   "hash": "f154b1abc693616b650422d55153a3a7d229343d432c3e5b609a51a9cadf4946"
  }
 },
 "nbformat": 4,
 "nbformat_minor": 2
}