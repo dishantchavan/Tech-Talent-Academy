{
 "cells": [
  {
   "cell_type": "code",
   "execution_count": null,
   "source": [
    "print ('Hello, How are doing today')\r\n",
    "print('Can you please tell your favourite meal starting from starter, main course, dessert and drink')"
   ],
   "outputs": [],
   "metadata": {}
  },
  {
   "cell_type": "code",
   "execution_count": null,
   "source": [
    "starter = input('Please enter your favourite starter')\r\n",
    "mains = input('Please enter your favourite main course')\r\n",
    "dessert = input('Please enter your favourite dessert')\r\n",
    "drink = input ('Please enter your drink')"
   ],
   "outputs": [],
   "metadata": {}
  },
  {
   "cell_type": "code",
   "execution_count": null,
   "source": [
    " print ('Your favourite meal is', starter, mains, dessert + ' with a glass of', drink)\r\n"
   ],
   "outputs": [],
   "metadata": {}
  }
 ],
 "metadata": {
  "orig_nbformat": 4,
  "language_info": {
   "name": "python",
   "version": "3.9.7",
   "mimetype": "text/x-python",
   "codemirror_mode": {
    "name": "ipython",
    "version": 3
   },
   "pygments_lexer": "ipython3",
   "nbconvert_exporter": "python",
   "file_extension": ".py"
  },
  "kernelspec": {
   "name": "python3",
   "display_name": "Python 3.9.7 64-bit (windows store)"
  },
  "interpreter": {
   "hash": "f154b1abc693616b650422d55153a3a7d229343d432c3e5b609a51a9cadf4946"
  }
 },
 "nbformat": 4,
 "nbformat_minor": 2
}