{
 "cells": [
  {
   "cell_type": "code",
   "execution_count": null,
   "metadata": {},
   "outputs": [],
   "source": [
    "print('Enter a if you want to add \\nEnter b if you want to subtract \\nEnter c if you want to multiple \\nEnter d if you want to divide \\nEnter e if you want square to the power of')\n",
    "num1 = int(input('Please enter a number'))\n",
    "num2 =int(input('Please enter another number'))"
   ]
  },
  {
   "cell_type": "code",
   "execution_count": null,
   "metadata": {},
   "outputs": [],
   "source": [
    "num3 = input('Enter alphabet for the desire calculation')\n",
    "def cal(num1,num2):\n",
    "    if num3 == 'a':\n",
    "        print(num1 + num2)\n",
    "    elif num3 == 'b':\n",
    "        print(num1 - num2)\n",
    "    elif num3 == 'c':\n",
    "        print(num1 * num2)\n",
    "    elif num3 == 'd':\n",
    "        print(num1 / num2)\n",
    "    elif num3 == 'e':\n",
    "        print(num1**num2)\n",
    "    else:\n",
    "        print('Please only choose from the above alphabets')\n",
    "\n"
   ]
  },
  {
   "cell_type": "code",
   "execution_count": null,
   "metadata": {},
   "outputs": [],
   "source": [
    "cal(num1,num2)"
   ]
  }
 ],
 "metadata": {
  "interpreter": {
   "hash": "f154b1abc693616b650422d55153a3a7d229343d432c3e5b609a51a9cadf4946"
  },
  "kernelspec": {
   "display_name": "Python 3.9.7 64-bit (windows store)",
   "name": "python3"
  },
  "language_info": {
   "codemirror_mode": {
    "name": "ipython",
    "version": 3
   },
   "file_extension": ".py",
   "mimetype": "text/x-python",
   "name": "python",
   "nbconvert_exporter": "python",
   "pygments_lexer": "ipython3",
   "version": "3.9.7"
  },
  "orig_nbformat": 4
 },
 "nbformat": 4,
 "nbformat_minor": 2
}
