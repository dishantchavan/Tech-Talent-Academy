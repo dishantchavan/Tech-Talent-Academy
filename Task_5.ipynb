{
 "cells": [
  {
   "cell_type": "code",
   "execution_count": null,
   "source": [
    "num1 = int(input('Please enter a number'))\r\n",
    "num2 =int(input('Please enter another number'))"
   ],
   "outputs": [],
   "metadata": {}
  },
  {
   "cell_type": "code",
   "execution_count": null,
   "source": [
    "print('Enter a if you want to add \\nEnter b if you want to subtract \\nEnter c if you want to multiple \\nEnter d if you want to divide \\nEnter e if you want square to the power of')"
   ],
   "outputs": [],
   "metadata": {}
  },
  {
   "cell_type": "code",
   "execution_count": null,
   "source": [
    "num3 = input('Enter alphabet for the desire calculation')\r\n",
    "if num3 == 'a':\r\n",
    "    print(num1 + num2)\r\n",
    "elif num3 == 'b':\r\n",
    "    print(num1 - num2)\r\n",
    "elif num3 =='c':\r\n",
    "    print(num1 * num2)\r\n",
    "elif num3 =='d':\r\n",
    "    print(num1 /num2)\r\n",
    "elif num3 =='e':\r\n",
    "    print(num1**num2)\r\n",
    "else:\r\n",
    "    print('Please only choose from the above alphabets')\r\n"
   ],
   "outputs": [],
   "metadata": {}
  }
 ],
 "metadata": {
  "orig_nbformat": 4,
  "language_info": {
   "name": "python",
   "version": "3.9.7",
   "mimetype": "text/x-python",
   "codemirror_mode": {
    "name": "ipython",
    "version": 3
   },
   "pygments_lexer": "ipython3",
   "nbconvert_exporter": "python",
   "file_extension": ".py"
  },
  "kernelspec": {
   "name": "python3",
   "display_name": "Python 3.9.7 64-bit (windows store)"
  },
  "interpreter": {
   "hash": "f154b1abc693616b650422d55153a3a7d229343d432c3e5b609a51a9cadf4946"
  }
 },
 "nbformat": 4,
 "nbformat_minor": 2
}